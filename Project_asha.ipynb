{
  "nbformat": 4,
  "nbformat_minor": 0,
  "metadata": {
    "colab": {
      "name": "Project asha.ipynb",
      "provenance": [],
      "authorship_tag": "ABX9TyOX4bzIQyhAjHi+FL8relXJ",
      "include_colab_link": true
    },
    "kernelspec": {
      "name": "python3",
      "display_name": "Python 3"
    }
  },
  "cells": [
    {
      "cell_type": "markdown",
      "metadata": {
        "id": "view-in-github",
        "colab_type": "text"
      },
      "source": [
        "<a href=\"https://colab.research.google.com/github/astha77-bot/Project-asha/blob/master/Project_asha.ipynb\" target=\"_parent\"><img src=\"https://colab.research.google.com/assets/colab-badge.svg\" alt=\"Open In Colab\"/></a>"
      ]
    },
    {
      "cell_type": "code",
      "metadata": {
        "id": "Lpd3GAvrnoPm",
        "colab_type": "code",
        "colab": {}
      },
      "source": [
        "import nltk"
      ],
      "execution_count": 3,
      "outputs": []
    },
    {
      "cell_type": "code",
      "metadata": {
        "id": "-9dwH1H1Jfm4",
        "colab_type": "code",
        "colab": {}
      },
      "source": [
        "from nltk.stem.lancaster import LancasterStemmer\n",
        "stemmer = LancasterStemmer()"
      ],
      "execution_count": 20,
      "outputs": []
    },
    {
      "cell_type": "markdown",
      "metadata": {
        "id": "yM3bS7-GmPk3",
        "colab_type": "text"
      },
      "source": [
        ""
      ]
    },
    {
      "cell_type": "markdown",
      "metadata": {
        "id": "eD3sb3ia3_EZ",
        "colab_type": "text"
      },
      "source": [
        ""
      ]
    },
    {
      "cell_type": "code",
      "metadata": {
        "id": "oCdUuCbRpZry",
        "colab_type": "code",
        "colab": {
          "base_uri": "https://localhost:8080/",
          "height": 276
        },
        "outputId": "504c14a1-35e2-4626-862a-22b7a33b17dc"
      },
      "source": [
        "!pip install tflearn"
      ],
      "execution_count": 5,
      "outputs": [
        {
          "output_type": "stream",
          "text": [
            "Collecting tflearn\n",
            "\u001b[?25l  Downloading https://files.pythonhosted.org/packages/16/ec/e9ce1b52e71f6dff3bd944f020cef7140779e783ab27512ea7c7275ddee5/tflearn-0.3.2.tar.gz (98kB)\n",
            "\r\u001b[K     |███▎                            | 10kB 16.0MB/s eta 0:00:01\r\u001b[K     |██████▋                         | 20kB 1.7MB/s eta 0:00:01\r\u001b[K     |██████████                      | 30kB 2.2MB/s eta 0:00:01\r\u001b[K     |█████████████▎                  | 40kB 2.5MB/s eta 0:00:01\r\u001b[K     |████████████████▋               | 51kB 2.0MB/s eta 0:00:01\r\u001b[K     |████████████████████            | 61kB 2.3MB/s eta 0:00:01\r\u001b[K     |███████████████████████▎        | 71kB 2.5MB/s eta 0:00:01\r\u001b[K     |██████████████████████████▋     | 81kB 2.7MB/s eta 0:00:01\r\u001b[K     |██████████████████████████████  | 92kB 2.9MB/s eta 0:00:01\r\u001b[K     |████████████████████████████████| 102kB 2.4MB/s \n",
            "\u001b[?25hRequirement already satisfied: numpy in /usr/local/lib/python3.6/dist-packages (from tflearn) (1.18.5)\n",
            "Requirement already satisfied: six in /usr/local/lib/python3.6/dist-packages (from tflearn) (1.15.0)\n",
            "Requirement already satisfied: Pillow in /usr/local/lib/python3.6/dist-packages (from tflearn) (7.0.0)\n",
            "Building wheels for collected packages: tflearn\n",
            "  Building wheel for tflearn (setup.py) ... \u001b[?25l\u001b[?25hdone\n",
            "  Created wheel for tflearn: filename=tflearn-0.3.2-cp36-none-any.whl size=128208 sha256=f79ccd310f27e4e1abfc22f325defc9db17a9c1f1fb550f841cb14b00f8872d5\n",
            "  Stored in directory: /root/.cache/pip/wheels/d0/f6/69/0ef3ee395aac2e5d15d89efd29a9a216f3c27767b43b72c006\n",
            "Successfully built tflearn\n",
            "Installing collected packages: tflearn\n",
            "Successfully installed tflearn-0.3.2\n"
          ],
          "name": "stdout"
        }
      ]
    },
    {
      "cell_type": "code",
      "metadata": {
        "id": "ce4fCCYB1jHD",
        "colab_type": "code",
        "colab": {
          "base_uri": "https://localhost:8080/",
          "height": 1000
        },
        "outputId": "f8395f82-f9a2-4a7b-da87-db17895a0633"
      },
      "source": [
        "!pip uninstall tensorflow -y\n",
        "!pip uninstall tensorflow-gpu -y\n",
        "!pip uninstall tflearn -y\n",
        "!pip install tensorflow-gpu==1.15\n",
        "!pip install tflearn"
      ],
      "execution_count": 6,
      "outputs": [
        {
          "output_type": "stream",
          "text": [
            "Uninstalling tensorflow-2.3.0:\n",
            "  Successfully uninstalled tensorflow-2.3.0\n",
            "\u001b[33mWARNING: Skipping tensorflow-gpu as it is not installed.\u001b[0m\n",
            "Uninstalling tflearn-0.3.2:\n",
            "  Successfully uninstalled tflearn-0.3.2\n",
            "Collecting tensorflow-gpu==1.15\n",
            "\u001b[?25l  Downloading https://files.pythonhosted.org/packages/a5/ad/933140e74973fb917a194ab814785e7c23680ca5dee6d663a509fe9579b6/tensorflow_gpu-1.15.0-cp36-cp36m-manylinux2010_x86_64.whl (411.5MB)\n",
            "\u001b[K     |████████████████████████████████| 411.5MB 39kB/s \n",
            "\u001b[?25hCollecting tensorflow-estimator==1.15.1\n",
            "\u001b[?25l  Downloading https://files.pythonhosted.org/packages/de/62/2ee9cd74c9fa2fa450877847ba560b260f5d0fb70ee0595203082dafcc9d/tensorflow_estimator-1.15.1-py2.py3-none-any.whl (503kB)\n",
            "\u001b[K     |████████████████████████████████| 512kB 22.8MB/s \n",
            "\u001b[?25hRequirement already satisfied: grpcio>=1.8.6 in /usr/local/lib/python3.6/dist-packages (from tensorflow-gpu==1.15) (1.30.0)\n",
            "Requirement already satisfied: wheel>=0.26 in /usr/local/lib/python3.6/dist-packages (from tensorflow-gpu==1.15) (0.34.2)\n",
            "Collecting keras-applications>=1.0.8\n",
            "\u001b[?25l  Downloading https://files.pythonhosted.org/packages/71/e3/19762fdfc62877ae9102edf6342d71b28fbfd9dea3d2f96a882ce099b03f/Keras_Applications-1.0.8-py3-none-any.whl (50kB)\n",
            "\u001b[K     |████████████████████████████████| 51kB 5.2MB/s \n",
            "\u001b[?25hCollecting gast==0.2.2\n",
            "  Downloading https://files.pythonhosted.org/packages/4e/35/11749bf99b2d4e3cceb4d55ca22590b0d7c2c62b9de38ac4a4a7f4687421/gast-0.2.2.tar.gz\n",
            "Requirement already satisfied: opt-einsum>=2.3.2 in /usr/local/lib/python3.6/dist-packages (from tensorflow-gpu==1.15) (3.3.0)\n",
            "Requirement already satisfied: keras-preprocessing>=1.0.5 in /usr/local/lib/python3.6/dist-packages (from tensorflow-gpu==1.15) (1.1.2)\n",
            "Requirement already satisfied: six>=1.10.0 in /usr/local/lib/python3.6/dist-packages (from tensorflow-gpu==1.15) (1.15.0)\n",
            "Requirement already satisfied: absl-py>=0.7.0 in /usr/local/lib/python3.6/dist-packages (from tensorflow-gpu==1.15) (0.9.0)\n",
            "Requirement already satisfied: protobuf>=3.6.1 in /usr/local/lib/python3.6/dist-packages (from tensorflow-gpu==1.15) (3.12.4)\n",
            "Collecting tensorboard<1.16.0,>=1.15.0\n",
            "\u001b[?25l  Downloading https://files.pythonhosted.org/packages/1e/e9/d3d747a97f7188f48aa5eda486907f3b345cd409f0a0850468ba867db246/tensorboard-1.15.0-py3-none-any.whl (3.8MB)\n",
            "\u001b[K     |████████████████████████████████| 3.8MB 34.8MB/s \n",
            "\u001b[?25hRequirement already satisfied: termcolor>=1.1.0 in /usr/local/lib/python3.6/dist-packages (from tensorflow-gpu==1.15) (1.1.0)\n",
            "Requirement already satisfied: wrapt>=1.11.1 in /usr/local/lib/python3.6/dist-packages (from tensorflow-gpu==1.15) (1.12.1)\n",
            "Requirement already satisfied: astor>=0.6.0 in /usr/local/lib/python3.6/dist-packages (from tensorflow-gpu==1.15) (0.8.1)\n",
            "Requirement already satisfied: google-pasta>=0.1.6 in /usr/local/lib/python3.6/dist-packages (from tensorflow-gpu==1.15) (0.2.0)\n",
            "Requirement already satisfied: numpy<2.0,>=1.16.0 in /usr/local/lib/python3.6/dist-packages (from tensorflow-gpu==1.15) (1.18.5)\n",
            "Requirement already satisfied: h5py in /usr/local/lib/python3.6/dist-packages (from keras-applications>=1.0.8->tensorflow-gpu==1.15) (2.10.0)\n",
            "Requirement already satisfied: setuptools in /usr/local/lib/python3.6/dist-packages (from protobuf>=3.6.1->tensorflow-gpu==1.15) (49.2.0)\n",
            "Requirement already satisfied: werkzeug>=0.11.15 in /usr/local/lib/python3.6/dist-packages (from tensorboard<1.16.0,>=1.15.0->tensorflow-gpu==1.15) (1.0.1)\n",
            "Requirement already satisfied: markdown>=2.6.8 in /usr/local/lib/python3.6/dist-packages (from tensorboard<1.16.0,>=1.15.0->tensorflow-gpu==1.15) (3.2.2)\n",
            "Requirement already satisfied: importlib-metadata; python_version < \"3.8\" in /usr/local/lib/python3.6/dist-packages (from markdown>=2.6.8->tensorboard<1.16.0,>=1.15.0->tensorflow-gpu==1.15) (1.7.0)\n",
            "Requirement already satisfied: zipp>=0.5 in /usr/local/lib/python3.6/dist-packages (from importlib-metadata; python_version < \"3.8\"->markdown>=2.6.8->tensorboard<1.16.0,>=1.15.0->tensorflow-gpu==1.15) (3.1.0)\n",
            "Building wheels for collected packages: gast\n",
            "  Building wheel for gast (setup.py) ... \u001b[?25l\u001b[?25hdone\n",
            "  Created wheel for gast: filename=gast-0.2.2-cp36-none-any.whl size=7540 sha256=5e10b9d51b43fb9c799f081a7d54aff39652e9b51c317fa573d87e0066569fb9\n",
            "  Stored in directory: /root/.cache/pip/wheels/5c/2e/7e/a1d4d4fcebe6c381f378ce7743a3ced3699feb89bcfbdadadd\n",
            "Successfully built gast\n",
            "\u001b[31mERROR: tensorflow-probability 0.11.0 has requirement gast>=0.3.2, but you'll have gast 0.2.2 which is incompatible.\u001b[0m\n",
            "Installing collected packages: tensorflow-estimator, keras-applications, gast, tensorboard, tensorflow-gpu\n",
            "  Found existing installation: tensorflow-estimator 2.3.0\n",
            "    Uninstalling tensorflow-estimator-2.3.0:\n",
            "      Successfully uninstalled tensorflow-estimator-2.3.0\n",
            "  Found existing installation: gast 0.3.3\n",
            "    Uninstalling gast-0.3.3:\n",
            "      Successfully uninstalled gast-0.3.3\n",
            "  Found existing installation: tensorboard 2.3.0\n",
            "    Uninstalling tensorboard-2.3.0:\n",
            "      Successfully uninstalled tensorboard-2.3.0\n",
            "Successfully installed gast-0.2.2 keras-applications-1.0.8 tensorboard-1.15.0 tensorflow-estimator-1.15.1 tensorflow-gpu-1.15.0\n",
            "Processing /root/.cache/pip/wheels/d0/f6/69/0ef3ee395aac2e5d15d89efd29a9a216f3c27767b43b72c006/tflearn-0.3.2-cp36-none-any.whl\n",
            "Requirement already satisfied: numpy in /usr/local/lib/python3.6/dist-packages (from tflearn) (1.18.5)\n",
            "Requirement already satisfied: six in /usr/local/lib/python3.6/dist-packages (from tflearn) (1.15.0)\n",
            "Requirement already satisfied: Pillow in /usr/local/lib/python3.6/dist-packages (from tflearn) (7.0.0)\n",
            "Installing collected packages: tflearn\n",
            "Successfully installed tflearn-0.3.2\n"
          ],
          "name": "stdout"
        }
      ]
    },
    {
      "cell_type": "code",
      "metadata": {
        "id": "ZjV3dGO82lfx",
        "colab_type": "code",
        "colab": {
          "base_uri": "https://localhost:8080/",
          "height": 257
        },
        "outputId": "ed76bc3a-28fa-405f-8787-89f40ca69ded"
      },
      "source": [
        "import tflearn"
      ],
      "execution_count": 7,
      "outputs": [
        {
          "output_type": "stream",
          "text": [
            "WARNING:tensorflow:From /usr/local/lib/python3.6/dist-packages/tflearn/helpers/summarizer.py:9: The name tf.summary.merge is deprecated. Please use tf.compat.v1.summary.merge instead.\n",
            "\n",
            "WARNING:tensorflow:From /usr/local/lib/python3.6/dist-packages/tflearn/helpers/trainer.py:25: The name tf.summary.FileWriter is deprecated. Please use tf.compat.v1.summary.FileWriter instead.\n",
            "\n",
            "WARNING:tensorflow:From /usr/local/lib/python3.6/dist-packages/tflearn/collections.py:13: The name tf.GraphKeys is deprecated. Please use tf.compat.v1.GraphKeys instead.\n",
            "\n",
            "WARNING:tensorflow:From /usr/local/lib/python3.6/dist-packages/tflearn/config.py:123: The name tf.get_collection is deprecated. Please use tf.compat.v1.get_collection instead.\n",
            "\n",
            "WARNING:tensorflow:From /usr/local/lib/python3.6/dist-packages/tflearn/config.py:129: The name tf.add_to_collection is deprecated. Please use tf.compat.v1.add_to_collection instead.\n",
            "\n",
            "WARNING:tensorflow:From /usr/local/lib/python3.6/dist-packages/tflearn/config.py:131: The name tf.assign is deprecated. Please use tf.compat.v1.assign instead.\n",
            "\n"
          ],
          "name": "stdout"
        }
      ]
    },
    {
      "cell_type": "code",
      "metadata": {
        "id": "ZRyPRfzP6BNi",
        "colab_type": "code",
        "colab": {}
      },
      "source": [
        "\n",
        "import numpy\n",
        "import tflearn\n",
        "import tensorflow\n",
        "import random"
      ],
      "execution_count": 8,
      "outputs": []
    },
    {
      "cell_type": "code",
      "metadata": {
        "id": "div8Ar06hXaM",
        "colab_type": "code",
        "colab": {}
      },
      "source": [
        ""
      ],
      "execution_count": 8,
      "outputs": []
    },
    {
      "cell_type": "code",
      "metadata": {
        "id": "Zxms3h-Qhbtx",
        "colab_type": "code",
        "colab": {}
      },
      "source": [
        ""
      ],
      "execution_count": 8,
      "outputs": []
    },
    {
      "cell_type": "code",
      "metadata": {
        "colab_type": "code",
        "id": "JXakfQRGhv7I",
        "colab": {
          "resources": {
            "http://localhost:8080/nbextensions/google.colab/files.js": {
              "data": "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",
              "ok": true,
              "headers": [
                [
                  "content-type",
                  "application/javascript"
                ]
              ],
              "status": 200,
              "status_text": "OK"
            }
          },
          "base_uri": "https://localhost:8080/",
          "height": 75
        },
        "outputId": "8ae563ed-4082-4a07-a5b7-a06d3ce590f1"
      },
      "source": [
        "from google.colab import files\n",
        "uploaded = files.upload()\n"
      ],
      "execution_count": 1,
      "outputs": [
        {
          "output_type": "display_data",
          "data": {
            "text/html": [
              "\n",
              "     <input type=\"file\" id=\"files-ff39f929-652e-460f-b830-3c463dc78bbc\" name=\"files[]\" multiple disabled\n",
              "        style=\"border:none\" />\n",
              "     <output id=\"result-ff39f929-652e-460f-b830-3c463dc78bbc\">\n",
              "      Upload widget is only available when the cell has been executed in the\n",
              "      current browser session. Please rerun this cell to enable.\n",
              "      </output>\n",
              "      <script src=\"/nbextensions/google.colab/files.js\"></script> "
            ],
            "text/plain": [
              "<IPython.core.display.HTML object>"
            ]
          },
          "metadata": {
            "tags": []
          }
        },
        {
          "output_type": "stream",
          "text": [
            "Saving ashap.json to ashap.json\n"
          ],
          "name": "stdout"
        }
      ]
    },
    {
      "cell_type": "code",
      "metadata": {
        "id": "1q5QG2ZVhzu4",
        "colab_type": "code",
        "colab": {}
      },
      "source": [
        ""
      ],
      "execution_count": null,
      "outputs": []
    },
    {
      "cell_type": "code",
      "metadata": {
        "colab_type": "code",
        "id": "r5kcRvCwiPO7",
        "colab": {
          "base_uri": "https://localhost:8080/",
          "height": 146
        },
        "outputId": "0acd8680-23e8-46f9-91fd-5df417fd5904"
      },
      "source": [
        "file_name = \"ashap.json\"\n",
        "uploaded[file_name].decode(\"utf-8\")\n"
      ],
      "execution_count": 2,
      "outputs": [
        {
          "output_type": "execute_result",
          "data": {
            "application/vnd.google.colaboratory.intrinsic+json": {
              "type": "string"
            },
            "text/plain": [
              "'{\"intents\": [ \\r\\n    {\"tag\": \"greeting\",\\r\\n        \"patterns\": [\"Hi\", \"How are you\", \"Is anyone there?\", \"Hello\", \"Good day\", \"Whats up\"],\\r\\n        \"responses\": [ \"Hi there, how can I help?\"],\\r\\n        \"context_set\": \"\"\\r\\n       },\\r\\n       {\"tag\": \"goodbye\",\\r\\n        \"patterns\": [\"cya\", \"See you later\", \"Goodbye\", \"I am Leaving\", \"Have a Good day\"],\\r\\n        \"responses\": [\"Sad to see you go :(\", \"Talk to you later\", \"Goodbye!,I hope I helped you feel better in anyway :)\"],\\r\\n        \"context_set\": \"\"\\r\\n       },\\r\\n\\r\\n    {\"tag\":\"Suicide\",\\r\\n    \"patterns\": [\\r\\n      \"can i change my feeling of being worthless to everyone ? i \\' m going through some things with my feelings and myself . i barely sleep and i do nothing but think about how i \\' m worthless and how i shouldn \\' t be here . i \\' ve never tried or contemplated suicide . i \\' ve always wanted to fix my issues , but i never get around to it . how can i change my feeling of being worthless to everyone ?\"\\r\\n    ],\\r\\n    \"responses\": [\\r\\n      \"maybe lower your expectations for a bit\",\\r\\n      \"if you are whole - heartedly committed to moving past the sexual and romantic parts of your relationship and just having a friendship than refraining from all the touching would be a good place to start\",\\r\\n      \"very often , one person wants to deal with the conflict right away or shortly thereafter and the other person wants to wait\",\\r\\n      \"\\\\\" my best guess is that your boyfriend is triggered by some previous relationship , either romantic or in childhood\",\\r\\n      \"can he do that for you\",\\r\\n      \"\\\\\" friend \\\\\" is a broad category\",\\r\\n      \"in general , i usually let the client decide when this should occur , sometimes with some clients it will be a joint agreement , but even in that case it should weigh mostly on what the client feels\",\\r\\n      \"who takes care of your son , is a significant part of getting over your heartbreak\",\\r\\n      \"if everyone thinks you \\' re worthless , then maybe you need to find new people to hang out with . seriously , the social context in which a person lives is a big influence in self - esteem . otherwise , you can go round and round trying to understand why you \\' re not worthless , then go back to the same crowd and be knocked down again . there are many inspirational messages you can find in social media . maybe read some of the ones which state that no person is worthless , and that everyone has a good purpose to their life . also , since our culture is so saturated with the belief that if someone doesn \\' t feel good about themselves that this is somehow terrible . bad feelings are part of living . they are the motivation to remove ourselves from situations and relationships which do us more harm than good . bad feelings do feel terrible . your feeling of worthlessness may be good in the sense of motivating you to find out that you are much better than your feelings today .\"\\r\\n      \\r\\n    ],\\r\\n    \"context_set\": \"\"\\r\\n  },\\r\\n\\r\\n    { \"tag\":\"issues\",\\r\\n       \\r\\n        \"patterns\": [\\r\\n          \"do i have too many issues for counseling ? i have so many issues to address . i have a patterns of sexual abuse , i ’ m a breast cancer survivor and i am a lifetime insomniac . i have a long patterns of depression and i ’ m beginning to have anxiety . i have low self esteem but i ’ ve been happily married for almost 35 years . i ’ ve never had counseling about any of this . do i have too many issues to address in counseling ?\"\\r\\n        ],\\r\\n        \"responses\": [\\r\\n          \"iitap\",\\r\\n          \"if your wife overheard the comment not knowing your intentions or context , it is possible that she may have misinterpreted what you have said\",\\r\\n          \"its always good to be very clear with oneself of what is the ultimate target here\",\\r\\n          \"concentrate on your own life and making your life the best it can be\",\\r\\n          \"if you feel yourself becoming heated , excuse yourself from the situation , go to a quiet place or on a walk , and practice some deep breathing\",\\r\\n          \"you get the worst because they trust your love\",\\r\\n          \"the best way for someone to understand us or to understand someone , is to directly talk about the specific problem\",\\r\\n          \"hold onto the likelihood that some day , they will come back and be grateful\",\\r\\n          \"let me start by saying there are never too many concerns that you can bring into counselling . in fact , most people who come to see me for counselling have more than one issue they would like to work on in psychotherapy and most times these are all interconnected . in counselling , we work together , collaboratively , to figure out which issues you would like to address first and then together we develop an individualized plan of care . basically , it ’ s like a road map of where you want to go , how are you going to get there , looking at stopovers , some scenic routes others possibly not so scenic , however , necessary . of course , these plans can also change due to internal ( what we have control over like our thoughts , feelings and behaviours ) or external reasons ( those things that are outside our control ) . i would encourage you to take the next step and reach out to a professional you can trust and build rapport with by co - journeying through whatever concerns you have by examining what has been working so far as you have learned to cope with some of your issues like insomnia , depression and anxiety , as well as being a breast cancer survivor . then to help you by developing new coping strategies . psychotherapy\"\\r\\n        ],\\r\\n        \"context_set\": \"\"\\r\\n      },\\r\\n\\r\\n      {\"tag\":\"anxiety\",\\r\\n            \"patterns\": [\\r\\n              \"how do i find out the cause of my depression and anxiety ? i have been feeling more and more down for over a month . i have started having trouble sleeping due to panic attacks , but they are almost never triggered by something that i know of .\"\\r\\n            ],\\r\\n            \"responses\": [\\r\\n              \"also , its possible your friends already have questioned why you wore a bigger bra than your boobs\",\\r\\n              \"sticking to a system which mirrors the type of person you are , means more than any one particular answer anyone gives you\",\\r\\n              \"however , it is what it is\",\\r\\n              \"someone working with the school ( usually a school psychologist ) should be able to evaluate her to see if she needs extra help and to tell you more clearly what may be happening\",\\r\\n              \"what a tough situation you must be in , feeling torn between your parents and someone who is very special to you\",\\r\\n              \"this may result in bringing the two of you closer and taking the relationship to the next level\",\\r\\n              \"do you want your marriage\",\\r\\n              \"in the best case scenario the decision to move on from therapy and “ say our goodbyes ” happens when both the therapist and the client feel like the client is ready to move on and move up\",\\r\\n              \"answers about our inner lives are most successfully reached from a sense of feeling grounded in oneself . first step is to accept your nervousness and restless sleep . as often as possible , sleep during daytimes in order for your body to catch up on its need for rest . accept too about feeling down . it is normal to feel down once in a while . from this place of self - acceptance , trust any answers which come up to your mind . often answers about complicated topics come in small pieces , not all at once as a whole unit . also , your description about panic attacks is also completely normal . they often arise unrelated to particular conditions at a given moment . they are a healthy symptom your body is trying to expel bad feelings and does this by having the anxiety erupt at times . so , self - acceptance , tolerance of being on a process of clearing out worn out emotional clutter , and sleep at odd times if possible , are all ways to stabilize yourself , which will also feel calm and good !\"\\r\\n            ],\\r\\n            \"context_set\": \"\"\\r\\n          },\\r\\n          {\"tag\":\"depression\",\\r\\n\\r\\n                \"patterns\": [\\r\\n                  \"how do i overcome my anxierty and depression ? i ’ m facing severe depression and anxiety and i just feel like i ’ m going through a lot . this really distracts me and i cant get my mind off the things that are bothering me . how do i overcome this anxierty and depression ?\"\\r\\n                ],\\r\\n                \"responses\": [\\r\\n                  \"it would be impossible to satisfy all of those expectations for every single person in our lives\",\\r\\n                  \"a good start is to pay attention to some basic issues : sleep , nutrition , exercise and socially supportive relationships\",\\r\\n                  \"it may , initially feel this way after a breakup\",\\r\\n                  \"i am not sure if you received counseling after what happened to you , but that may be something to consider\",\\r\\n                  \"but usually , things like what you describe your dad is doing are not considered to be child abuse\",\\r\\n                  \"but what makes friendships special is that they last trough time , at least with those who we call our true friends , those who know us well and whom we have a special connection and those from whom we disconnect at times , without fear of losing them\",\\r\\n                  \"is the message being sent coming from a place of love or concern\",\\r\\n                  \"it may , initially feel this way after a breakup\",\\r\\n                  \"have you used meditation or hypnosis ? relaxing the mind and connecting with your true self is a great way to calm your thoughts and get to peace and calm . hypnosis and meditation have helped a lot of people with anxiety and depression . google hypnotherapists near me or write for a while about what is going on .\"\\r\\n                ],\\r\\n                \"context_set\": \"\"\\r\\n              },\\r\\n              { \\r\\n                \"tag\":\"upset\",\\r\\n                 \"patterns\": [\\r\\n                      \"why am i upset or down every day even when nothing is going on ? how can i get to a place where i can be content from day to day ?\"\\r\\n                    ],\\r\\n                    \"responses\": [\\r\\n                      \"can you see that underneath the nagging there \\' s a pretty overwhelmed and powerless person who needs assistance\",\\r\\n                      \": ) i will not say that you can \\' t but i will say it will be much harder and the time may take much longer\",\\r\\n                      \"thank you for asking this important question\",\\r\\n                      \"you want respect\",\\r\\n                      \"a relationship gets weaker , not stronger by threatening control of the other person\",\\r\\n                      \"if you can see her responses as habits , rather than a reflection of how she feels about you , then you can keep yourself calm\",\\r\\n                      \"this is not stupid , this is your mind telling you that there is something that needs to be worked through\",\\r\\n                      \"wouldn \\' t it not be best to go to those around you that do provide comfort and aid , first\",\\r\\n                      \"your question is a fascinating one ! as humans we have the ability to reflect on situations in our lives . even if nothing currently goes on in a particular moment , it ’ s possible you ’ re reflecting on a serious or upsetting matter . and , our emotions linger within us . just because a particular moment feels calm , inside your feelings may be the sense of a strong unsettled emotion from the recent past . good for you to be aware of your own sensitivity to living with awareness of your moods and thoughts .\"\\r\\n                    ],\\r\\n                    \"context_set\": \"\"\\r\\n                  },\\r\\n                  {\\r\\n                    \\r\\n                    \"tag\":\"pain\",\\r\\n                        \"patterns\": [\\r\\n                          \"how can i deal with depression stemming from chronic pain ? i have a severe back problem . i \\' ve had 3 major and several minor operations , but i \\' m still in constant pain . how can i deal with the depression from this chronic pain ?\"\\r\\n                        ],\\r\\n                        \"responses\": [\\r\\n                          \"the person would guide you in working with the dog to become calmer\",\\r\\n                          \"because you have the awareness that you do , i feel this is a very good sign that with treatment you can live a normal life ( assuming you are not already receiving treatment for it\",\\r\\n                          \"this isn \\' t something you can do on your own\",\\r\\n                          \"some medicines may have that side effect as well\",\\r\\n                          \"la relacion de consejeria tambien puede terminar por no conformar o violentar los parametros establecidos para la terapia\",\\r\\n                          \"i wish you well\",\\r\\n                          \"are you seeing a therapist or attending any therapeutic or supportive group\",\\r\\n                          \"once the therapy goals have been met , there is a closing session , the counseling relationship is ended , and the client can stop attending sessions\",\\r\\n                          \"chronic pain at the back likely results from a few areas : l4 - l5 kidney zone , most likely ( lower back ) ; bone spurs , fused discs , and slipped discs , caused by connective tissue weakness , and calcium deposits used to neutralize highly acidic areas . . . the \\' depression \\' will evaporate when the chronic pain is drained out , through natural means ; pharmaceutical means will simply extend the pain and cause it to deepen over time , not solving the problem ; remember , medical doctors suppress , natural doctors cure . . .\"\\r\\n                        ],\\r\\n                        \"context_set\": \"\"\\r\\n                      },\\r\\n                      {\\r\\n                        \"tag\":\"failure\",\\r\\n                            \"patterns\": [\\r\\n                              \"how can i get counseling if my primary care physician won \\' t help ? i suffer from adult adhd , anxiety disorder , and depression . it has been difficult to find a doctor in my area and my primary physician won \\' t help . i am unemployed and overwhelmed . what would you suggest i do ?\"\\r\\n                            ],\\r\\n                            \"responses\": [\\r\\n                              \"after reading your question , i wondered how you went from \\\\\" making out \\\\\" to \\\\\" nothing happened\",\\r\\n                              \"¿ como trabajo con un esposo que solo contribuye economicamente\",\\r\\n                              \"the paradox of thinking about forever is that you can become more motivated to live only in the present\",\\r\\n                              \"you \\' re expecting reasonable behaviors from your boyfriend \\' s father\",\\r\\n                              \"muchas veces cuando los papas estan afuera las mamas desarrollan rutinas que luego ellos no quieren interrumpir\",\\r\\n                              \"not everyone who experiences a car accident develops ptsd\",\\r\\n                              \"¿ deberia hacer algo al respecto\",\\r\\n                              \"in the long term , knowing you are getting what you want and at the very least stating your expectations to your boyfriend , will clarify for him , what is meaningful in your relationship\",\\r\\n                              \"if it is simply counseling that you seek , any number of faith - based outfits are very willing to listen and help out with these sorts of matters , free of charge : ) online messaging and social media is a secondary option , however this one may come with privacy concerns and consequences ; if it were i , i would attempt to sweet - talk one or two counselors i come across to do a bit of work for folks who can \\' t afford it : )\"\\r\\n                            ],\\r\\n                            \"context_set\": \"\"\\r\\n                          },\\r\\n                          {\\r\\n                            \"tag\":\"Sex\",\\r\\n                                \"patterns\": [\\r\\n                                  \"why am i experiencing dfficulty maintaining an erection ? a few years ago i was making love to my wife when for no known reason i lost my erection , now i \\' m in my early 30s and my problem has become more and more frequent . this is causing major problems for my ego and it \\' s diminishing my self esteem . this has resulted in ongoing depression and tearing apart my marriage . i am devastated and cannot find a cause for these issues . i am very attracted to my wife and want to express it in the bedroom like i used to . what could be causing this , and what can i do about it ?\"\\r\\n                                ],\\r\\n                                \"responses\": [\\r\\n                                  \"certain foods are linked with poor sleep\",\\r\\n                                  \"there are resources out there - people to talk to\",\\r\\n                                  \"employers can be held responsible if they do not take action\",\\r\\n                                  \"allow yourself to withdraw when situations feel dangerous\",\\r\\n                                  \"then , allow some time so each of you is clear about their own expectations and what is possible to offer the other\",\\r\\n                                  \"you could try having a conversation when you \\' re not fighting and starting it out by saying that you would like to discuss something important to you and see if your fiancee is open to that\",\\r\\n                                  \"staying present is an attitude most of us aspire to , and most of us have to work at it — certainly at first\",\\r\\n                                  \"have you talked to a therapist\",\\r\\n                                  \"first step always is to do a medical rule out so that you \\' re sure the problem is psychological and emotion based , not a medical condition which requires care and attention . if you are medically clear in the reasons for losing your erection , then reflect on what may be creating a loss in confidence in either who you are and what you \\' re doing with your life , or whether your wife has these sort of problems within herself . often a problem transfers ownership of who shows it . if you are a sensitive person its possible your erection problem reflects your wife \\' s insecurities and self - doubt . if she is someone who is reluctant to talk about feeling unsure then in a certain way by you showing a problem , she can avoid looking at herself . there may not be a direct cause such as usually exists in a medical problem . medicine looks for symptoms to treat . our emotional lives are much more indirect . if you feel stress at work or are unhappy in the place you live , for example , then your frustration may show up in your sex life . basically , do a broad inward search of your life and what it holds and maybe ask your wife to do the same . you may clear the air within yourselves and between each other so the problem goes away .\"\\r\\n                                ],\\r\\n                                \"context_set\": \"\"\\r\\n                              },\\r\\n                              {\\r\\n                                \"tag\":\"stuck\",\\r\\n                                    \"patterns\": [\\r\\n                                      \"how do depression and pms symptoms contribute to one another and what can i do about it ? i struggle with depression as well as pretty intense mood swings throughout the month . i experience highs where i feel amazing and energetic and then lows where i lack focus , energy , and generally have a more dark outlook on my life . how can i live a more balanced life ?\"\\r\\n                                    ],\\r\\n                                    \"responses\": [\\r\\n                                      \"i have worked with the lesbian , gay , bisexual , transgender , queer ( lgbtq ) community in various ways over the years\",\\r\\n                                      \", lmhc hi , this sounds like a very challenging and upsetting problem - good for you for reaching out\",\\r\\n                                      \"i hope this helps you , your family members , and the pets\",\\r\\n                                      \"you are not crazy or insane for thinking of working with a counselor , nor of having feelings of same sex attraction\",\\r\\n                                      \"there is no correct number of topics\",\\r\\n                                      \"examine the basics of your growing up years and what may explain why you feel insecure\",\\r\\n                                      \"anxiety is overwhelming insecurity\",\\r\\n                                      \"very often kids who are not encouraged to try new activities , have fun in relating to others , learn to not trust themselves to handle these fundamental parts of life\",\\r\\n                                      \"it \\' s fun to ride the roller coaster from time to time , isn \\' t it ? : ) but , it \\' s also weary - making , and leads to drainage that no man or woman can hardly anticipate ! balance comes with proper understanding of the different bodies you possess and how they function . and , to begin , we focus upon your physical , and move right up the latter to the spiritual , and begin cleaning you out . unbalance is an experience of blocked energies that should be naturally flowing ( call them what thou mayest ) ; when blockages are removed , what is naturally there flows , and flows beautifully . . .\"\\r\\n                                    \\r\\n                                    ],\\r\\n                                    \"context_set\": \"\"\\r\\n                                  },\\r\\n                                  {\"tag\":\"help\",\\r\\n                                    \\r\\n                                        \"patterns\": [\\r\\n                                          \"how can i get my husband to listen to my needs and talk to me ? i tried telling my husband i was depressed , and he ignored me . he said \\\\\" you \\' re always sad or depressed . \\\\\" and he picked up his phone and ignored me . i said , \\\\\" please don \\' t exaggerate , that isn \\' t true . \\\\\" and he said , \\\\\" whatever babe . you just want to be sad . \\\\\" how can i get through to him so he will take me seriously ?\"\\r\\n                                        ],\\r\\n                                        \"responses\": [\\r\\n                                          \"also try restating what your husband is saying to make sure that you are understanding correctly\",\\r\\n                                          \"i am so sorry that this happened\",\\r\\n                                          \"also in the initial conversation , you can feel free to ask what their therapeutic modality is or give a brief scenario and ask how the therapist might respond to that situation\",\\r\\n                                          \"if what he is telling you is different than what you have heard or thought of for many years , it may be challenging to follow his meaning initially\",\\r\\n                                          \"eventually , stability and peace of mind return , and being alone with oneself is preferred to being taken on an emotional rollercoaster by a partner\",\\r\\n                                          \"it is absolutely normal to be nervous about therapy\",\\r\\n                                          \"i am less concerned about this man as bisexual and having gay friends , than about how you feel is treating you\",\\r\\n                                          \"choosing the right therapist can sometimes feel a bit overwhelming\",\\r\\n                                          \"ouch . it \\' s really hard to deal with a spouse that isn \\' t taking you seriously . in this case , i would plan for and schedule a time to talk with him about this . i would tell him that you need about 30 minutes to talk to him with minimal interruptions about something that is important to you . schedule a time , write notes if you need reminders about what you need to express , and tell him how you feel . ideally , you would focus more on i - statements instead of telling him what he is doing wrong . for example , i feel ignored vs you always ignore me . by focusing on how you feel , he is less likely to feel attacked and get defensive . some people go to couples or marriage counseling for help with communication . chances are there are things that both of you do that hurts your communication . overall , try to talk to him directly and try not to get defensive . if he continues to say , you \\' re always sad - then stay calm , say \\\\\" okay , can you help me understand that more ? \\\\\" or \\\\\" that \\' s interesting . tell me what you see . \\\\\" reach out to a couples counselor for more help with communication strategies . sometimes a 3rd party can help you both see things in a\"\\r\\n                                        ]\\r\\n                                      },\\r\\n                                      { \"tag\":\"why\",\\r\\n                                        \\r\\n                                            \"patterns\": [\\r\\n                                              \"why do i crave depression ? it \\' s not entirely true to say i enjoy being sad , but i always find a way to feel that way . i listen to sad music , read tragic stories , and , in a twisted way , like how bad it makes me feel . i focus on negative aspects of my life even if they aren \\' t legitimate or i just make it seem negative .\"\\r\\n                                            ],\\r\\n                                            \"responses\": [\\r\\n                                              \"if you find yourself arguing with your mom , stop\",\\r\\n                                              \"it may also be helpful to make a list of your concerns or fears about being away from your family\",\\r\\n                                              \"i believe that for results that last , the best approach is to understand why someone feels like doing a certain behavior\",\\r\\n                                              \"a good spouse sacrifices their needs to see the other person happy\",\\r\\n                                              \"i would encourage you to look for a trauma therapist who offers a sliding scale or pro bono services\",\\r\\n                                              \"\\\\\" \\\\\" you don \\' t\",\\r\\n                                              \"since you don \\' t know what to do , then for right now postpone your wedding date\",\\r\\n                                              \"let me first say that i am sorry you are going through this\",\\r\\n                                              \"it sounds like you are noticing that you are drawn towards sad and negative content and it \\' s hard to understand why . this may sound counter - intuitive , but sometimes we do things that on the surface may look problematic ( or even cause us some real problems ) because it serves us in some unseen way . a simple example would be somebody who is addicted to a substance ; their addiction may be causing serious problems in their life , and they may even know it , but the addiction serves them by helping them to avoid painful feelings that they anticipate having if they quit using . now i am not saying that what you describe is an addiction , it is just a really illustrative example of the unseen benefit . one thing i would be wondering about is what is the unseen benefit of seeking out sad and negative content ? i \\' d also be wondering what your relationship is to other feelings . these are things you may benefit from exploring with a competent therapist .\"\\r\\n                                            ],\\r\\n                                            \"context_set\": \"\"\\r\\n                                          },\\r\\n                                          {\\r\\n                                            \"tag\":\"heal\",\\r\\n                                                \"patterns\": [\\r\\n                                                  \"i \\' m seriously unhappy with everything in my life but i know i don \\' t have any reason to feel this way i can \\' t even smile or fake one . i can \\' t feel happiness about anything and i can \\' t show love towards another person not even my girlfriend . i hate myself sometimes . all i see is ugly . i can \\' t get over the loss of a loved one and i \\' m not close to my family . what can i do ?\"\\r\\n                                                ],\\r\\n                                                \"responses\": [\\r\\n                                                  \"the problem is how long you \\' re holding it in your hand\",\\r\\n                                                  \"i wish you the best\",\\r\\n                                                  \"what would the worst part be\",\\r\\n                                                  \"part of the therapy process is to look at your feelings , and to feel what you are actually feeling ( instead of what you think you should feel )\",\\r\\n                                                  \"we call these \\\\\" comorbid \\\\\" conditions , which means that two or more mental health problems exist at one time\",\\r\\n                                                  \"you deserve the help just as much as anyone else\",\\r\\n                                                  \"in fact , all of what you described points to the importance of you seeking help in order to cope with the many challenges in your life\",\\r\\n                                                  \"heck , sure thing , hun\",\\r\\n                                                  \"trust and believe your own feelings . emotions are real and reflect how someone feels about a situation . since you \\' re sad about losing a loved one , be patient w your feelings about this . basically , be guided by how you feel and eventually you will feel different emotions which i hope will be happier ones .\"\\r\\n                                                ],\\r\\n                                                \"context_set\": \"\"\\r\\n                                              },\\r\\n                                              {\\r\\n                                                \"tag\":\"Solution\",\\r\\n                                                \\r\\n                                                    \"patterns\": [\\r\\n                                                      \"is there anything i can do about my depression and anxiety ? i have been dealing with depression and anxiety for a number of years . i have been on medication , but lately my depression has felt worse . can counseling help ?\"\\r\\n                                                    ],\\r\\n                                                    \"responses\": [\\r\\n                                                      \"being a parent can be all - consuming\",\\r\\n                                                      \"if you have difficulty initiating self - care routine talk to your therapist about what motivates you and pushes you to do things , you might find the key during the process\",\\r\\n                                                      \"hi anaheim , relationships with therapists have some things in common with other relationships ; they work best if there is dialogue about what your hopes , thoughts , emotions and needs are\",\\r\\n                                                      \"hi bethlehem , you have a big decision to make\",\\r\\n                                                      \"breath in and out of that space\",\\r\\n                                                      \"you could also contact your physician or a psychiatrist to discuss medication options if it ’ s too challenging to begin basic self - care\",\\r\\n                                                      \"if not that , ive sometimes encouraged folk to just leave some information on depression and how family can help like a pamphlet or handout on a table or around the house\",\\r\\n                                                      \"when to seek professional help\",\\r\\n                                                      \"thank you for asking this important question . i find that there are three steps to getting ready for treatment . step one is expressing interest in wanting to receiving treatment for the outcome of positive behavioral change . congratulations you did the first step ! you are showing your readiness to start counseling by asking this question . now the second step is to find a counselor who specializes in treating clients with anxiety and depression . the therapeutic orientations i have found to be helpful in treating clients with anxiety and depression are a combination of cognitive behavioral therapy with mindfulness , and solution focused brief therapy . receiving meditation for your symptoms if part of the treatment , and the other part is receiving counseling to increase your resilience for future events . research has found that medication and psychotherapy treatments together shows the most effective outcome for depression . the third step is to increase your positive self - talk to motivate yourself to attend treatment . as counselors , we are aware of the anxieties and fears that are associated with talking to a new professional for the first time . however , remind yourself that you are doing this to improve your well being . i hope this was helpful , and good luck with your treatment journey .\"\\r\\n                                                    \\r\\n                                                    \\r\\n                                                    ],\\r\\n                                                    \"context_set\": \"\"\\r\\n                                                  }\\r\\n                                                \\r\\n                                                ]\\r\\n                                            }\\r\\n\\r\\n                                            \\r\\n                                        \\r\\n                                    \\r\\n                                  \\r\\n                                          \\r\\n                                            \\r\\n                                                                      \\r\\n                                    \\r\\n                          \\r\\n                        \\r\\n                      \\r\\n                    \\r\\n                  \\r\\n                \\r\\n              \\r\\n\\r\\n\\r\\n\\r\\n\\r\\n    \\r\\n  \\r\\n\\r\\n'"
            ]
          },
          "metadata": {
            "tags": []
          },
          "execution_count": 2
        }
      ]
    },
    {
      "cell_type": "markdown",
      "metadata": {
        "id": "721GJjs35kqT",
        "colab_type": "text"
      },
      "source": [
        ""
      ]
    },
    {
      "cell_type": "code",
      "metadata": {
        "id": "UPh-RR5tlJyl",
        "colab_type": "code",
        "colab": {}
      },
      "source": [
        "import json\n",
        "import codecs\n",
        "\n",
        "data=json.load(codecs.open('ashap.json', 'r', 'utf-8-sig'))"
      ],
      "execution_count": 3,
      "outputs": []
    },
    {
      "cell_type": "code",
      "metadata": {
        "id": "ygQrNyxKoCgs",
        "colab_type": "code",
        "colab": {
          "base_uri": "https://localhost:8080/",
          "height": 1000
        },
        "outputId": "59c27e55-c9b8-4ae6-cd9b-ba807d2b412a"
      },
      "source": [
        "data"
      ],
      "execution_count": 4,
      "outputs": [
        {
          "output_type": "execute_result",
          "data": {
            "text/plain": [
              "{'intents': [{'context_set': '',\n",
              "   'patterns': ['Hi',\n",
              "    'How are you',\n",
              "    'Is anyone there?',\n",
              "    'Hello',\n",
              "    'Good day',\n",
              "    'Whats up'],\n",
              "   'responses': ['Hi there, how can I help?'],\n",
              "   'tag': 'greeting'},\n",
              "  {'context_set': '',\n",
              "   'patterns': ['cya',\n",
              "    'See you later',\n",
              "    'Goodbye',\n",
              "    'I am Leaving',\n",
              "    'Have a Good day'],\n",
              "   'responses': ['Sad to see you go :(',\n",
              "    'Talk to you later',\n",
              "    'Goodbye!,I hope I helped you feel better in anyway :)'],\n",
              "   'tag': 'goodbye'},\n",
              "  {'context_set': '',\n",
              "   'patterns': [\"can i change my feeling of being worthless to everyone ? i ' m going through some things with my feelings and myself . i barely sleep and i do nothing but think about how i ' m worthless and how i shouldn ' t be here . i ' ve never tried or contemplated suicide . i ' ve always wanted to fix my issues , but i never get around to it . how can i change my feeling of being worthless to everyone ?\"],\n",
              "   'responses': ['maybe lower your expectations for a bit',\n",
              "    'if you are whole - heartedly committed to moving past the sexual and romantic parts of your relationship and just having a friendship than refraining from all the touching would be a good place to start',\n",
              "    'very often , one person wants to deal with the conflict right away or shortly thereafter and the other person wants to wait',\n",
              "    '\" my best guess is that your boyfriend is triggered by some previous relationship , either romantic or in childhood',\n",
              "    'can he do that for you',\n",
              "    '\" friend \" is a broad category',\n",
              "    'in general , i usually let the client decide when this should occur , sometimes with some clients it will be a joint agreement , but even in that case it should weigh mostly on what the client feels',\n",
              "    'who takes care of your son , is a significant part of getting over your heartbreak',\n",
              "    \"if everyone thinks you ' re worthless , then maybe you need to find new people to hang out with . seriously , the social context in which a person lives is a big influence in self - esteem . otherwise , you can go round and round trying to understand why you ' re not worthless , then go back to the same crowd and be knocked down again . there are many inspirational messages you can find in social media . maybe read some of the ones which state that no person is worthless , and that everyone has a good purpose to their life . also , since our culture is so saturated with the belief that if someone doesn ' t feel good about themselves that this is somehow terrible . bad feelings are part of living . they are the motivation to remove ourselves from situations and relationships which do us more harm than good . bad feelings do feel terrible . your feeling of worthlessness may be good in the sense of motivating you to find out that you are much better than your feelings today .\"],\n",
              "   'tag': 'Suicide'},\n",
              "  {'context_set': '',\n",
              "   'patterns': ['do i have too many issues for counseling ? i have so many issues to address . i have a patterns of sexual abuse , i ’ m a breast cancer survivor and i am a lifetime insomniac . i have a long patterns of depression and i ’ m beginning to have anxiety . i have low self esteem but i ’ ve been happily married for almost 35 years . i ’ ve never had counseling about any of this . do i have too many issues to address in counseling ?'],\n",
              "   'responses': ['iitap',\n",
              "    'if your wife overheard the comment not knowing your intentions or context , it is possible that she may have misinterpreted what you have said',\n",
              "    'its always good to be very clear with oneself of what is the ultimate target here',\n",
              "    'concentrate on your own life and making your life the best it can be',\n",
              "    'if you feel yourself becoming heated , excuse yourself from the situation , go to a quiet place or on a walk , and practice some deep breathing',\n",
              "    'you get the worst because they trust your love',\n",
              "    'the best way for someone to understand us or to understand someone , is to directly talk about the specific problem',\n",
              "    'hold onto the likelihood that some day , they will come back and be grateful',\n",
              "    'let me start by saying there are never too many concerns that you can bring into counselling . in fact , most people who come to see me for counselling have more than one issue they would like to work on in psychotherapy and most times these are all interconnected . in counselling , we work together , collaboratively , to figure out which issues you would like to address first and then together we develop an individualized plan of care . basically , it ’ s like a road map of where you want to go , how are you going to get there , looking at stopovers , some scenic routes others possibly not so scenic , however , necessary . of course , these plans can also change due to internal ( what we have control over like our thoughts , feelings and behaviours ) or external reasons ( those things that are outside our control ) . i would encourage you to take the next step and reach out to a professional you can trust and build rapport with by co - journeying through whatever concerns you have by examining what has been working so far as you have learned to cope with some of your issues like insomnia , depression and anxiety , as well as being a breast cancer survivor . then to help you by developing new coping strategies . psychotherapy'],\n",
              "   'tag': 'issues'},\n",
              "  {'context_set': '',\n",
              "   'patterns': ['how do i find out the cause of my depression and anxiety ? i have been feeling more and more down for over a month . i have started having trouble sleeping due to panic attacks , but they are almost never triggered by something that i know of .'],\n",
              "   'responses': ['also , its possible your friends already have questioned why you wore a bigger bra than your boobs',\n",
              "    'sticking to a system which mirrors the type of person you are , means more than any one particular answer anyone gives you',\n",
              "    'however , it is what it is',\n",
              "    'someone working with the school ( usually a school psychologist ) should be able to evaluate her to see if she needs extra help and to tell you more clearly what may be happening',\n",
              "    'what a tough situation you must be in , feeling torn between your parents and someone who is very special to you',\n",
              "    'this may result in bringing the two of you closer and taking the relationship to the next level',\n",
              "    'do you want your marriage',\n",
              "    'in the best case scenario the decision to move on from therapy and “ say our goodbyes ” happens when both the therapist and the client feel like the client is ready to move on and move up',\n",
              "    'answers about our inner lives are most successfully reached from a sense of feeling grounded in oneself . first step is to accept your nervousness and restless sleep . as often as possible , sleep during daytimes in order for your body to catch up on its need for rest . accept too about feeling down . it is normal to feel down once in a while . from this place of self - acceptance , trust any answers which come up to your mind . often answers about complicated topics come in small pieces , not all at once as a whole unit . also , your description about panic attacks is also completely normal . they often arise unrelated to particular conditions at a given moment . they are a healthy symptom your body is trying to expel bad feelings and does this by having the anxiety erupt at times . so , self - acceptance , tolerance of being on a process of clearing out worn out emotional clutter , and sleep at odd times if possible , are all ways to stabilize yourself , which will also feel calm and good !'],\n",
              "   'tag': 'anxiety'},\n",
              "  {'context_set': '',\n",
              "   'patterns': ['how do i overcome my anxierty and depression ? i ’ m facing severe depression and anxiety and i just feel like i ’ m going through a lot . this really distracts me and i cant get my mind off the things that are bothering me . how do i overcome this anxierty and depression ?'],\n",
              "   'responses': ['it would be impossible to satisfy all of those expectations for every single person in our lives',\n",
              "    'a good start is to pay attention to some basic issues : sleep , nutrition , exercise and socially supportive relationships',\n",
              "    'it may , initially feel this way after a breakup',\n",
              "    'i am not sure if you received counseling after what happened to you , but that may be something to consider',\n",
              "    'but usually , things like what you describe your dad is doing are not considered to be child abuse',\n",
              "    'but what makes friendships special is that they last trough time , at least with those who we call our true friends , those who know us well and whom we have a special connection and those from whom we disconnect at times , without fear of losing them',\n",
              "    'is the message being sent coming from a place of love or concern',\n",
              "    'it may , initially feel this way after a breakup',\n",
              "    'have you used meditation or hypnosis ? relaxing the mind and connecting with your true self is a great way to calm your thoughts and get to peace and calm . hypnosis and meditation have helped a lot of people with anxiety and depression . google hypnotherapists near me or write for a while about what is going on .'],\n",
              "   'tag': 'depression'},\n",
              "  {'context_set': '',\n",
              "   'patterns': ['why am i upset or down every day even when nothing is going on ? how can i get to a place where i can be content from day to day ?'],\n",
              "   'responses': [\"can you see that underneath the nagging there ' s a pretty overwhelmed and powerless person who needs assistance\",\n",
              "    \": ) i will not say that you can ' t but i will say it will be much harder and the time may take much longer\",\n",
              "    'thank you for asking this important question',\n",
              "    'you want respect',\n",
              "    'a relationship gets weaker , not stronger by threatening control of the other person',\n",
              "    'if you can see her responses as habits , rather than a reflection of how she feels about you , then you can keep yourself calm',\n",
              "    'this is not stupid , this is your mind telling you that there is something that needs to be worked through',\n",
              "    \"wouldn ' t it not be best to go to those around you that do provide comfort and aid , first\",\n",
              "    'your question is a fascinating one ! as humans we have the ability to reflect on situations in our lives . even if nothing currently goes on in a particular moment , it ’ s possible you ’ re reflecting on a serious or upsetting matter . and , our emotions linger within us . just because a particular moment feels calm , inside your feelings may be the sense of a strong unsettled emotion from the recent past . good for you to be aware of your own sensitivity to living with awareness of your moods and thoughts .'],\n",
              "   'tag': 'upset'},\n",
              "  {'context_set': '',\n",
              "   'patterns': [\"how can i deal with depression stemming from chronic pain ? i have a severe back problem . i ' ve had 3 major and several minor operations , but i ' m still in constant pain . how can i deal with the depression from this chronic pain ?\"],\n",
              "   'responses': ['the person would guide you in working with the dog to become calmer',\n",
              "    'because you have the awareness that you do , i feel this is a very good sign that with treatment you can live a normal life ( assuming you are not already receiving treatment for it',\n",
              "    \"this isn ' t something you can do on your own\",\n",
              "    'some medicines may have that side effect as well',\n",
              "    'la relacion de consejeria tambien puede terminar por no conformar o violentar los parametros establecidos para la terapia',\n",
              "    'i wish you well',\n",
              "    'are you seeing a therapist or attending any therapeutic or supportive group',\n",
              "    'once the therapy goals have been met , there is a closing session , the counseling relationship is ended , and the client can stop attending sessions',\n",
              "    \"chronic pain at the back likely results from a few areas : l4 - l5 kidney zone , most likely ( lower back ) ; bone spurs , fused discs , and slipped discs , caused by connective tissue weakness , and calcium deposits used to neutralize highly acidic areas . . . the ' depression ' will evaporate when the chronic pain is drained out , through natural means ; pharmaceutical means will simply extend the pain and cause it to deepen over time , not solving the problem ; remember , medical doctors suppress , natural doctors cure . . .\"],\n",
              "   'tag': 'pain'},\n",
              "  {'context_set': '',\n",
              "   'patterns': [\"how can i get counseling if my primary care physician won ' t help ? i suffer from adult adhd , anxiety disorder , and depression . it has been difficult to find a doctor in my area and my primary physician won ' t help . i am unemployed and overwhelmed . what would you suggest i do ?\"],\n",
              "   'responses': ['after reading your question , i wondered how you went from \" making out \" to \" nothing happened',\n",
              "    '¿ como trabajo con un esposo que solo contribuye economicamente',\n",
              "    'the paradox of thinking about forever is that you can become more motivated to live only in the present',\n",
              "    \"you ' re expecting reasonable behaviors from your boyfriend ' s father\",\n",
              "    'muchas veces cuando los papas estan afuera las mamas desarrollan rutinas que luego ellos no quieren interrumpir',\n",
              "    'not everyone who experiences a car accident develops ptsd',\n",
              "    '¿ deberia hacer algo al respecto',\n",
              "    'in the long term , knowing you are getting what you want and at the very least stating your expectations to your boyfriend , will clarify for him , what is meaningful in your relationship',\n",
              "    \"if it is simply counseling that you seek , any number of faith - based outfits are very willing to listen and help out with these sorts of matters , free of charge : ) online messaging and social media is a secondary option , however this one may come with privacy concerns and consequences ; if it were i , i would attempt to sweet - talk one or two counselors i come across to do a bit of work for folks who can ' t afford it : )\"],\n",
              "   'tag': 'failure'},\n",
              "  {'context_set': '',\n",
              "   'patterns': [\"why am i experiencing dfficulty maintaining an erection ? a few years ago i was making love to my wife when for no known reason i lost my erection , now i ' m in my early 30s and my problem has become more and more frequent . this is causing major problems for my ego and it ' s diminishing my self esteem . this has resulted in ongoing depression and tearing apart my marriage . i am devastated and cannot find a cause for these issues . i am very attracted to my wife and want to express it in the bedroom like i used to . what could be causing this , and what can i do about it ?\"],\n",
              "   'responses': ['certain foods are linked with poor sleep',\n",
              "    'there are resources out there - people to talk to',\n",
              "    'employers can be held responsible if they do not take action',\n",
              "    'allow yourself to withdraw when situations feel dangerous',\n",
              "    'then , allow some time so each of you is clear about their own expectations and what is possible to offer the other',\n",
              "    \"you could try having a conversation when you ' re not fighting and starting it out by saying that you would like to discuss something important to you and see if your fiancee is open to that\",\n",
              "    'staying present is an attitude most of us aspire to , and most of us have to work at it — certainly at first',\n",
              "    'have you talked to a therapist',\n",
              "    \"first step always is to do a medical rule out so that you ' re sure the problem is psychological and emotion based , not a medical condition which requires care and attention . if you are medically clear in the reasons for losing your erection , then reflect on what may be creating a loss in confidence in either who you are and what you ' re doing with your life , or whether your wife has these sort of problems within herself . often a problem transfers ownership of who shows it . if you are a sensitive person its possible your erection problem reflects your wife ' s insecurities and self - doubt . if she is someone who is reluctant to talk about feeling unsure then in a certain way by you showing a problem , she can avoid looking at herself . there may not be a direct cause such as usually exists in a medical problem . medicine looks for symptoms to treat . our emotional lives are much more indirect . if you feel stress at work or are unhappy in the place you live , for example , then your frustration may show up in your sex life . basically , do a broad inward search of your life and what it holds and maybe ask your wife to do the same . you may clear the air within yourselves and between each other so the problem goes away .\"],\n",
              "   'tag': 'Sex'},\n",
              "  {'context_set': '',\n",
              "   'patterns': ['how do depression and pms symptoms contribute to one another and what can i do about it ? i struggle with depression as well as pretty intense mood swings throughout the month . i experience highs where i feel amazing and energetic and then lows where i lack focus , energy , and generally have a more dark outlook on my life . how can i live a more balanced life ?'],\n",
              "   'responses': ['i have worked with the lesbian , gay , bisexual , transgender , queer ( lgbtq ) community in various ways over the years',\n",
              "    ', lmhc hi , this sounds like a very challenging and upsetting problem - good for you for reaching out',\n",
              "    'i hope this helps you , your family members , and the pets',\n",
              "    'you are not crazy or insane for thinking of working with a counselor , nor of having feelings of same sex attraction',\n",
              "    'there is no correct number of topics',\n",
              "    'examine the basics of your growing up years and what may explain why you feel insecure',\n",
              "    'anxiety is overwhelming insecurity',\n",
              "    'very often kids who are not encouraged to try new activities , have fun in relating to others , learn to not trust themselves to handle these fundamental parts of life',\n",
              "    \"it ' s fun to ride the roller coaster from time to time , isn ' t it ? : ) but , it ' s also weary - making , and leads to drainage that no man or woman can hardly anticipate ! balance comes with proper understanding of the different bodies you possess and how they function . and , to begin , we focus upon your physical , and move right up the latter to the spiritual , and begin cleaning you out . unbalance is an experience of blocked energies that should be naturally flowing ( call them what thou mayest ) ; when blockages are removed , what is naturally there flows , and flows beautifully . . .\"],\n",
              "   'tag': 'stuck'},\n",
              "  {'patterns': ['how can i get my husband to listen to my needs and talk to me ? i tried telling my husband i was depressed , and he ignored me . he said \" you \\' re always sad or depressed . \" and he picked up his phone and ignored me . i said , \" please don \\' t exaggerate , that isn \\' t true . \" and he said , \" whatever babe . you just want to be sad . \" how can i get through to him so he will take me seriously ?'],\n",
              "   'responses': ['also try restating what your husband is saying to make sure that you are understanding correctly',\n",
              "    'i am so sorry that this happened',\n",
              "    'also in the initial conversation , you can feel free to ask what their therapeutic modality is or give a brief scenario and ask how the therapist might respond to that situation',\n",
              "    'if what he is telling you is different than what you have heard or thought of for many years , it may be challenging to follow his meaning initially',\n",
              "    'eventually , stability and peace of mind return , and being alone with oneself is preferred to being taken on an emotional rollercoaster by a partner',\n",
              "    'it is absolutely normal to be nervous about therapy',\n",
              "    'i am less concerned about this man as bisexual and having gay friends , than about how you feel is treating you',\n",
              "    'choosing the right therapist can sometimes feel a bit overwhelming',\n",
              "    'ouch . it \\' s really hard to deal with a spouse that isn \\' t taking you seriously . in this case , i would plan for and schedule a time to talk with him about this . i would tell him that you need about 30 minutes to talk to him with minimal interruptions about something that is important to you . schedule a time , write notes if you need reminders about what you need to express , and tell him how you feel . ideally , you would focus more on i - statements instead of telling him what he is doing wrong . for example , i feel ignored vs you always ignore me . by focusing on how you feel , he is less likely to feel attacked and get defensive . some people go to couples or marriage counseling for help with communication . chances are there are things that both of you do that hurts your communication . overall , try to talk to him directly and try not to get defensive . if he continues to say , you \\' re always sad - then stay calm , say \" okay , can you help me understand that more ? \" or \" that \\' s interesting . tell me what you see . \" reach out to a couples counselor for more help with communication strategies . sometimes a 3rd party can help you both see things in a'],\n",
              "   'tag': 'help'},\n",
              "  {'context_set': '',\n",
              "   'patterns': [\"why do i crave depression ? it ' s not entirely true to say i enjoy being sad , but i always find a way to feel that way . i listen to sad music , read tragic stories , and , in a twisted way , like how bad it makes me feel . i focus on negative aspects of my life even if they aren ' t legitimate or i just make it seem negative .\"],\n",
              "   'responses': ['if you find yourself arguing with your mom , stop',\n",
              "    'it may also be helpful to make a list of your concerns or fears about being away from your family',\n",
              "    'i believe that for results that last , the best approach is to understand why someone feels like doing a certain behavior',\n",
              "    'a good spouse sacrifices their needs to see the other person happy',\n",
              "    'i would encourage you to look for a trauma therapist who offers a sliding scale or pro bono services',\n",
              "    '\" \" you don \\' t',\n",
              "    \"since you don ' t know what to do , then for right now postpone your wedding date\",\n",
              "    'let me first say that i am sorry you are going through this',\n",
              "    \"it sounds like you are noticing that you are drawn towards sad and negative content and it ' s hard to understand why . this may sound counter - intuitive , but sometimes we do things that on the surface may look problematic ( or even cause us some real problems ) because it serves us in some unseen way . a simple example would be somebody who is addicted to a substance ; their addiction may be causing serious problems in their life , and they may even know it , but the addiction serves them by helping them to avoid painful feelings that they anticipate having if they quit using . now i am not saying that what you describe is an addiction , it is just a really illustrative example of the unseen benefit . one thing i would be wondering about is what is the unseen benefit of seeking out sad and negative content ? i ' d also be wondering what your relationship is to other feelings . these are things you may benefit from exploring with a competent therapist .\"],\n",
              "   'tag': 'why'},\n",
              "  {'context_set': '',\n",
              "   'patterns': [\"i ' m seriously unhappy with everything in my life but i know i don ' t have any reason to feel this way i can ' t even smile or fake one . i can ' t feel happiness about anything and i can ' t show love towards another person not even my girlfriend . i hate myself sometimes . all i see is ugly . i can ' t get over the loss of a loved one and i ' m not close to my family . what can i do ?\"],\n",
              "   'responses': [\"the problem is how long you ' re holding it in your hand\",\n",
              "    'i wish you the best',\n",
              "    'what would the worst part be',\n",
              "    'part of the therapy process is to look at your feelings , and to feel what you are actually feeling ( instead of what you think you should feel )',\n",
              "    'we call these \" comorbid \" conditions , which means that two or more mental health problems exist at one time',\n",
              "    'you deserve the help just as much as anyone else',\n",
              "    'in fact , all of what you described points to the importance of you seeking help in order to cope with the many challenges in your life',\n",
              "    'heck , sure thing , hun',\n",
              "    \"trust and believe your own feelings . emotions are real and reflect how someone feels about a situation . since you ' re sad about losing a loved one , be patient w your feelings about this . basically , be guided by how you feel and eventually you will feel different emotions which i hope will be happier ones .\"],\n",
              "   'tag': 'heal'},\n",
              "  {'context_set': '',\n",
              "   'patterns': ['is there anything i can do about my depression and anxiety ? i have been dealing with depression and anxiety for a number of years . i have been on medication , but lately my depression has felt worse . can counseling help ?'],\n",
              "   'responses': ['being a parent can be all - consuming',\n",
              "    'if you have difficulty initiating self - care routine talk to your therapist about what motivates you and pushes you to do things , you might find the key during the process',\n",
              "    'hi anaheim , relationships with therapists have some things in common with other relationships ; they work best if there is dialogue about what your hopes , thoughts , emotions and needs are',\n",
              "    'hi bethlehem , you have a big decision to make',\n",
              "    'breath in and out of that space',\n",
              "    'you could also contact your physician or a psychiatrist to discuss medication options if it ’ s too challenging to begin basic self - care',\n",
              "    'if not that , ive sometimes encouraged folk to just leave some information on depression and how family can help like a pamphlet or handout on a table or around the house',\n",
              "    'when to seek professional help',\n",
              "    'thank you for asking this important question . i find that there are three steps to getting ready for treatment . step one is expressing interest in wanting to receiving treatment for the outcome of positive behavioral change . congratulations you did the first step ! you are showing your readiness to start counseling by asking this question . now the second step is to find a counselor who specializes in treating clients with anxiety and depression . the therapeutic orientations i have found to be helpful in treating clients with anxiety and depression are a combination of cognitive behavioral therapy with mindfulness , and solution focused brief therapy . receiving meditation for your symptoms if part of the treatment , and the other part is receiving counseling to increase your resilience for future events . research has found that medication and psychotherapy treatments together shows the most effective outcome for depression . the third step is to increase your positive self - talk to motivate yourself to attend treatment . as counselors , we are aware of the anxieties and fears that are associated with talking to a new professional for the first time . however , remind yourself that you are doing this to improve your well being . i hope this was helpful , and good luck with your treatment journey .'],\n",
              "   'tag': 'Solution'}]}"
            ]
          },
          "metadata": {
            "tags": []
          },
          "execution_count": 4
        }
      ]
    },
    {
      "cell_type": "code",
      "metadata": {
        "id": "MzaWrmMopT6P",
        "colab_type": "code",
        "colab": {}
      },
      "source": [
        "words = []\n",
        "labels =[]\n",
        "docs_x = []\n",
        "docs_y = []"
      ],
      "execution_count": 16,
      "outputs": []
    },
    {
      "cell_type": "code",
      "metadata": {
        "id": "HbZ1qKdTV6Ut",
        "colab_type": "code",
        "colab": {
          "base_uri": "https://localhost:8080/",
          "height": 72
        },
        "outputId": "0d29aceb-6a3e-443f-ca8a-b56c11b1c5d3"
      },
      "source": [
        "import nltk\n",
        "nltk.download('punkt')"
      ],
      "execution_count": 6,
      "outputs": [
        {
          "output_type": "stream",
          "text": [
            "[nltk_data] Downloading package punkt to /root/nltk_data...\n",
            "[nltk_data]   Unzipping tokenizers/punkt.zip.\n"
          ],
          "name": "stdout"
        },
        {
          "output_type": "execute_result",
          "data": {
            "text/plain": [
              "True"
            ]
          },
          "metadata": {
            "tags": []
          },
          "execution_count": 6
        }
      ]
    },
    {
      "cell_type": "code",
      "metadata": {
        "id": "lwYeIAmIpely",
        "colab_type": "code",
        "colab": {}
      },
      "source": [
        "\n",
        "for intent in data[\"intents\"]:\n",
        "    for pattern in intent[\"patterns\"]:\n",
        "      #stemming\n",
        "        wrds = nltk.word_tokenize(pattern)\n",
        "        #addind the words in list\n",
        "        words.extend(wrds)\n",
        "        docs_x.append(wrds)\n",
        "        docs_y.append(intent[\"tag\"])\n",
        "\n",
        "    if intent[\"tag\"] not in labels:\n",
        "        labels.append(intent[\"tag\"])"
      ],
      "execution_count": 17,
      "outputs": []
    },
    {
      "cell_type": "code",
      "metadata": {
        "id": "0Gg56k-degXu",
        "colab_type": "code",
        "colab": {}
      },
      "source": [
        "words = [stemmer.stem(w.lower()) for w in words if w != \"?\"]\n",
        "#set remove all the duplicate elements\n",
        "words = sorted(list(set(words)))"
      ],
      "execution_count": 21,
      "outputs": []
    },
    {
      "cell_type": "code",
      "metadata": {
        "id": "pne6JKVpyJfb",
        "colab_type": "code",
        "colab": {}
      },
      "source": [
        "labels = sorted(labels)"
      ],
      "execution_count": 22,
      "outputs": []
    },
    {
      "cell_type": "code",
      "metadata": {
        "id": "FX6GJxrCxl_d",
        "colab_type": "code",
        "colab": {}
      },
      "source": [
        "training = []\n",
        "output = []\n"
      ],
      "execution_count": 24,
      "outputs": []
    },
    {
      "cell_type": "code",
      "metadata": {
        "id": "vfAnoeDS1Hd_",
        "colab_type": "code",
        "colab": {}
      },
      "source": [
        ""
      ],
      "execution_count": null,
      "outputs": []
    },
    {
      "cell_type": "markdown",
      "metadata": {
        "id": "Iqo4d6migBMi",
        "colab_type": "text"
      },
      "source": [
        ""
      ]
    }
  ]
}